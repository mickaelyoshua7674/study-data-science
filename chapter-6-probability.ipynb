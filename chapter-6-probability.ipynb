{
 "cells": [
  {
   "attachments": {},
   "cell_type": "markdown",
   "metadata": {},
   "source": [
    "# Conditional Probability"
   ]
  },
  {
   "attachments": {},
   "cell_type": "markdown",
   "metadata": {},
   "source": [
    "Probability formula between 2 events: $P(E,F) = P(E|F)*P(F)$\n",
    "\n",
    "If the events are independents (event $E$ don't depend on event $F$) we have that $P(E|F) = P(E)$ resulting in $P(E,F) = P(E)*P(F)$."
   ]
  },
  {
   "attachments": {},
   "cell_type": "markdown",
   "metadata": {},
   "source": [
    "## Bayes Event"
   ]
  },
  {
   "attachments": {},
   "cell_type": "markdown",
   "metadata": {},
   "source": [
    "Is a way of \"reverse\" the conditional probabilities, i.e., if we have the probability of $F$ conditional on $E$ ($P(F|E)$), we can extract the probability of $E$ conditional on $F$ ($P(E|F)$).\n",
    "\n",
    "Formula:\n",
    "$$\n",
    "P(E|F) = \\frac{P(F|E)*P(E)}{P(F|E)*P(E) + P(F|\\neg E)*P(\\neg E)}\n",
    "$$"
   ]
  },
  {
   "attachments": {},
   "cell_type": "markdown",
   "metadata": {},
   "source": [
    "# "
   ]
  },
  {
   "attachments": {},
   "cell_type": "markdown",
   "metadata": {},
   "source": [
    "# Continuous Distibution"
   ]
  },
  {
   "cell_type": "code",
   "execution_count": null,
   "metadata": {},
   "outputs": [],
   "source": []
  }
 ],
 "metadata": {
  "language_info": {
   "name": "python"
  },
  "orig_nbformat": 4
 },
 "nbformat": 4,
 "nbformat_minor": 2
}
