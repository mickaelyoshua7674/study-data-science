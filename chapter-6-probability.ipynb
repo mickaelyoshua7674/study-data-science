{
 "cells": [
  {
   "attachments": {},
   "cell_type": "markdown",
   "metadata": {},
   "source": [
    "# Probabilidade Condicinoal"
   ]
  },
  {
   "attachments": {},
   "cell_type": "markdown",
   "metadata": {},
   "source": [
    "Fórmula completa de prbabilidade entre 2 eventos: $P(E,F) = P(E|F)*P(F)$\n",
    "\n",
    "Caso os eventos sejam indepentendes (evento $E$ não depender do evento $F$) temos que $P(E|F) = P(E)$ rsultando em $P(E,F) = P(E)*P(F)$"
   ]
  },
  {
   "attachments": {},
   "cell_type": "markdown",
   "metadata": {},
   "source": [
    "## Evento de Bayes"
   ]
  },
  {
   "attachments": {},
   "cell_type": "markdown",
   "metadata": {},
   "source": [
    "Uma forma de \"reverter\" as probabilidades condicionais, ou seja, tendo a probabilidade de $F$ condicionada a $E$ ($P(F|E)$) podemos extrair a probabilidade de $E$ condicionado a $F$ ($P(E|F)$).\n",
    "\n",
    "Fórmula:\n",
    "$$\n",
    "P(E|F) = \\frac{P(F|E)*P(E)}{P(F|E)*P(E) + P(F|\\neg E)*P(\\neg E)}\n",
    "$$"
   ]
  },
  {
   "cell_type": "code",
   "execution_count": null,
   "metadata": {},
   "outputs": [],
   "source": []
  }
 ],
 "metadata": {
  "language_info": {
   "name": "python"
  },
  "orig_nbformat": 4
 },
 "nbformat": 4,
 "nbformat_minor": 2
}
