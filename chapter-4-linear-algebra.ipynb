{
 "cells": [
  {
   "cell_type": "code",
   "execution_count": 2,
   "metadata": {},
   "outputs": [],
   "source": [
    "from typing import List"
   ]
  },
  {
   "attachments": {},
   "cell_type": "markdown",
   "metadata": {},
   "source": [
    "## Sum / Subtract Vectors"
   ]
  },
  {
   "cell_type": "code",
   "execution_count": 8,
   "metadata": {},
   "outputs": [],
   "source": [
    "Vector = List[float]\n",
    "def add(v: Vector, w: Vector) -> Vector:\n",
    "    \"\"\"Sum corresponding elements\"\"\"\n",
    "    assert len(v)==len(w), \"Vectrs must be the same length\"\n",
    "    return [v_i + w_i for v_i, w_i in zip(v, w)]\n",
    "assert add([1,2,3], [4,5,6]) == [5,7,9]\n",
    "\n",
    "def subtract(v: Vector, w: Vector) -> Vector:\n",
    "    \"\"\"Subtract corresponding elements\"\"\"\n",
    "    assert len(v)==len(w), \"Vectrs must be the same length\"\n",
    "    return [v_i - w_i for v_i, w_i in zip(v, w)]\n",
    "assert subtract([5,7,9], [4,5,6]) == [1,2,3]"
   ]
  },
  {
   "attachments": {},
   "cell_type": "markdown",
   "metadata": {},
   "source": [
    "## Sum list of Vectors"
   ]
  },
  {
   "cell_type": "code",
   "execution_count": 9,
   "metadata": {},
   "outputs": [],
   "source": [
    "def vectors_sum(vectors: List[Vector]) -> Vector:\n",
    "    \"\"\"Sum a list of vectors\"\"\"\n",
    "    # Check if there is vectors\n",
    "    assert vectors, \"No vectors provided!\"\n",
    "\n",
    "    #Check if all vectors are the same length\n",
    "    assert all(len(v) == len(vectors[0]) for v in vectors), \"different sizes!\"\n",
    "\n",
    "    # Sum\n",
    "    return [sum(vector[i] for vector in vectors) for i in range(len(vectors[0]))]\n",
    "\n",
    "assert vectors_sum([[1,2], [3,4], [5,6], [7,8]]) == [16,20]"
   ]
  },
  {
   "cell_type": "code",
   "execution_count": null,
   "metadata": {},
   "outputs": [],
   "source": []
  }
 ],
 "metadata": {
  "kernelspec": {
   "display_name": "Python 3",
   "language": "python",
   "name": "python3"
  },
  "language_info": {
   "codemirror_mode": {
    "name": "ipython",
    "version": 3
   },
   "file_extension": ".py",
   "mimetype": "text/x-python",
   "name": "python",
   "nbconvert_exporter": "python",
   "pygments_lexer": "ipython3",
   "version": "3.10.10"
  },
  "orig_nbformat": 4
 },
 "nbformat": 4,
 "nbformat_minor": 2
}
